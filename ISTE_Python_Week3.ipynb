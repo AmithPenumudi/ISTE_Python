{
  "nbformat": 4,
  "nbformat_minor": 0,
  "metadata": {
    "colab": {
      "name": "ISTE_Python_Week3.ipynb",
      "provenance": [],
      "collapsed_sections": [],
      "authorship_tag": "ABX9TyMxNMYm2QpTqOa1YuV8NFcG",
      "include_colab_link": true
    },
    "kernelspec": {
      "name": "python3",
      "display_name": "Python 3"
    },
    "language_info": {
      "name": "python"
    }
  },
  "cells": [
    {
      "cell_type": "markdown",
      "metadata": {
        "id": "view-in-github",
        "colab_type": "text"
      },
      "source": [
        "<a href=\"https://colab.research.google.com/github/AmithPenumudi/ISTE_Python/blob/main/ISTE_Python_Week3.ipynb\" target=\"_parent\"><img src=\"https://colab.research.google.com/assets/colab-badge.svg\" alt=\"Open In Colab\"/></a>"
      ]
    },
    {
      "cell_type": "markdown",
      "metadata": {
        "id": "13Svt6Dz8_K3"
      },
      "source": [
        "**Week-3** Assignment\n"
      ]
    },
    {
      "cell_type": "markdown",
      "metadata": {
        "id": "AZSNyqOh8_CW"
      },
      "source": [
        "Question-1"
      ]
    },
    {
      "cell_type": "code",
      "metadata": {
        "colab": {
          "base_uri": "https://localhost:8080/"
        },
        "id": "uLmGGveQ8-kV",
        "outputId": "4909ec43-c315-4d02-9aeb-a6491d66d981"
      },
      "source": [
        "dict1={\n",
        "    'a':20,'b':30,'c':43,'d':54,'e':1\n",
        "}\n",
        "dict2={\n",
        "    'A':45,'B':2,'a':70,'e':68,'C':60\n",
        "}\n",
        "for key in dict1:\n",
        "  if key in dict2:\n",
        "    dict2[key]=dict1[key]+dict2[key]\n",
        "  else:\n",
        "    dict2[key]=dict1[key]\n",
        "\n",
        "print(dict2)    "
      ],
      "execution_count": null,
      "outputs": [
        {
          "output_type": "stream",
          "text": [
            "{'A': 45, 'B': 2, 'a': 90, 'e': 69, 'C': 60, 'b': 30, 'c': 43, 'd': 54}\n"
          ],
          "name": "stdout"
        }
      ]
    },
    {
      "cell_type": "markdown",
      "metadata": {
        "id": "VLzh7CyV-Z5d"
      },
      "source": [
        "Question-2"
      ]
    },
    {
      "cell_type": "code",
      "metadata": {
        "colab": {
          "base_uri": "https://localhost:8080/"
        },
        "id": "zSDw1bvJ85se",
        "outputId": "0cabc249-1324-4700-9d0b-4f255da5a976"
      },
      "source": [
        "string=input(\"Enter the string: \")\n",
        "count=0\n",
        "dict={}\n",
        "\n",
        "for x in range(len(string)):\n",
        "  count=0\n",
        "  for y in string:\n",
        "    if(string[x]==y):\n",
        "      count=count+1\n",
        "  dict[string[x]]=count\n",
        "\n",
        "print(dict)\n",
        " \n",
        " \n"
      ],
      "execution_count": null,
      "outputs": [
        {
          "output_type": "stream",
          "text": [
            "Enter the string: wertyui ewrrtdyfugih efyggvoikjbfyvdfyjhgbvgfdjbfygnbh\n",
            "{'w': 2, 'e': 3, 'r': 3, 't': 2, 'y': 6, 'u': 2, 'i': 3, ' ': 2, 'd': 3, 'f': 6, 'g': 6, 'h': 3, 'v': 3, 'o': 1, 'k': 1, 'j': 3, 'b': 4, 'n': 1}\n"
          ],
          "name": "stdout"
        }
      ]
    },
    {
      "cell_type": "markdown",
      "metadata": {
        "id": "WIuhPxQmBtyy"
      },
      "source": [
        "Question-3"
      ]
    },
    {
      "cell_type": "code",
      "metadata": {
        "colab": {
          "base_uri": "https://localhost:8080/"
        },
        "id": "dndOGa32BvZP",
        "outputId": "5bb9bc22-e074-414c-f4af-9ee76ad8966a"
      },
      "source": [
        "main_string=input(\"Enter the main string: \")\n",
        "sub_string=input(\"Enter the sub string: \")\n",
        "\n",
        "if all([char in main_string for char in sub_string]):\n",
        " for x in range(1,len(main_string)):\n",
        "   temp=main_string[:x]\n",
        "\n",
        "   if all([char in temp for char in sub_string]):\n",
        "    break\n",
        " result=temp[:x-1]\n",
        "else:\n",
        "  result=main_string    \n",
        "\n",
        "\n",
        "print(result)"
      ],
      "execution_count": null,
      "outputs": [
        {
          "output_type": "stream",
          "text": [
            "Enter the main string: An apple a day keeps the doctor away.\n",
            "Enter the sub string: water\n",
            "An apple a day keeps the doctor a\n"
          ],
          "name": "stdout"
        }
      ]
    },
    {
      "cell_type": "markdown",
      "metadata": {
        "id": "380fgNRZNCy3"
      },
      "source": [
        "Question-4"
      ]
    },
    {
      "cell_type": "code",
      "metadata": {
        "colab": {
          "base_uri": "https://localhost:8080/"
        },
        "id": "2HhiZO_rNE7W",
        "outputId": "5f1f8499-a84b-44a6-f570-7e111c022df8"
      },
      "source": [
        "string=input(\"Enter the string: \")\n",
        "count=0\n",
        "\n",
        "for x in range(len(string)):\n",
        "  if('a'==string[x]):\n",
        "    if('r'==string[x+1]):\n",
        "      if('e'==string[x+2]):\n",
        "        count=count+1\n",
        "  else:\n",
        "    continue\n",
        "\n",
        "print(\"Frequency of 'are' in the string is: \",count)"
      ],
      "execution_count": null,
      "outputs": [
        {
          "output_type": "stream",
          "text": [
            "Enter the string: are is happy, being are, living as are, having are, eating are, killing are and finally dying as are.\n",
            "Frequency of 'are' in the string is:  7\n"
          ],
          "name": "stdout"
        }
      ]
    },
    {
      "cell_type": "markdown",
      "metadata": {
        "id": "2xwYLFisR-zm"
      },
      "source": [
        "Method-2"
      ]
    },
    {
      "cell_type": "code",
      "metadata": {
        "colab": {
          "base_uri": "https://localhost:8080/"
        },
        "id": "Mkhxmh9WSASe",
        "outputId": "06822fa6-98b1-4a89-fe72-1e0a3252ab09"
      },
      "source": [
        "string=input(\"Enter the string: \")\n",
        "word='are'\n",
        "count=0\n",
        "\n",
        "a=string.split()\n",
        "\n",
        "\n",
        "for x in range(len(a)):\n",
        "   if(word == a[x]):\n",
        "     count=count+1\n",
        "    \n",
        "print(\"Frequency of 'are' in the string is: \",count)"
      ],
      "execution_count": null,
      "outputs": [
        {
          "output_type": "stream",
          "text": [
            "Enter the string: are is happy, being are , living as are , having are , eating are , killing are and finally dying as are .\n",
            "Frequency of 'are' in the string is:  7\n"
          ],
          "name": "stdout"
        }
      ]
    }
  ]
}