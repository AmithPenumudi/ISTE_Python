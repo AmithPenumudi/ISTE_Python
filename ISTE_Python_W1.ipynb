{
  "nbformat": 4,
  "nbformat_minor": 0,
  "metadata": {
    "colab": {
      "name": "ISTE Python.ipynb",
      "provenance": [],
      "collapsed_sections": []
    },
    "kernelspec": {
      "name": "python3",
      "display_name": "Python 3"
    },
    "language_info": {
      "name": "python"
    }
  },
  "cells": [
    {
      "cell_type": "markdown",
      "metadata": {
        "id": "rJGrZTHE9j-0"
      },
      "source": [
        "**ASSIGNMENT**\n",
        "Week-1 PYTHON"
      ]
    },
    {
      "cell_type": "markdown",
      "metadata": {
        "id": "TJYdQwfa9atK"
      },
      "source": [
        "Question 1.a"
      ]
    },
    {
      "cell_type": "code",
      "metadata": {
        "id": "laVidU90LuQr",
        "colab": {
          "base_uri": "https://localhost:8080/"
        },
        "outputId": "ec694fc2-57e8-45d7-f98c-1ceee81ca144"
      },
      "source": [
        "a=7.3\n",
        "b=5+4j\n",
        "c=a+b\n",
        "print(c)"
      ],
      "execution_count": null,
      "outputs": [
        {
          "output_type": "stream",
          "text": [
            "(12.3+4j)\n"
          ],
          "name": "stdout"
        }
      ]
    },
    {
      "cell_type": "markdown",
      "metadata": {
        "id": "Asy99Cyn9utr"
      },
      "source": [
        "Question 1.b"
      ]
    },
    {
      "cell_type": "code",
      "metadata": {
        "id": "VS5aZBDRMUtf",
        "colab": {
          "base_uri": "https://localhost:8080/"
        },
        "outputId": "a2f576fe-aed5-41c1-a450-9fa1c428c03b"
      },
      "source": [
        "a=4e4\n",
        "b=4E4\n",
        "if(a==b):\n",
        "  print(\"4e4 and 4E4 are same\")\n",
        "else:\n",
        "  print(\"4e4 and 4E4 are different\")"
      ],
      "execution_count": null,
      "outputs": [
        {
          "output_type": "stream",
          "text": [
            "4e4 and 4E4 are same\n"
          ],
          "name": "stdout"
        }
      ]
    },
    {
      "cell_type": "markdown",
      "metadata": {
        "id": "LV3YEfnz9xIH"
      },
      "source": [
        "Question 1.c"
      ]
    },
    {
      "cell_type": "code",
      "metadata": {
        "id": "2LDFnPHuMvmf",
        "colab": {
          "base_uri": "https://localhost:8080/"
        },
        "outputId": "eafedc6c-3b4f-4c3f-873b-b8869b65a176"
      },
      "source": [
        "c=3+5j\n",
        "r=c.real\n",
        "i=c.imag\n",
        "print(\"Real part of the complex number(r) is \",r,sep=\"\")\n",
        "print(\"Imaginary part of the complex number(i) is \",i,sep=\"\")"
      ],
      "execution_count": null,
      "outputs": [
        {
          "output_type": "stream",
          "text": [
            "Real part of the complex number(r) is 3.0\n",
            "Imaginary part of the complex number(i) is 5.0\n"
          ],
          "name": "stdout"
        }
      ]
    },
    {
      "cell_type": "markdown",
      "metadata": {
        "id": "ssJ4hWiU99-H"
      },
      "source": [
        "Question 1.d"
      ]
    },
    {
      "cell_type": "code",
      "metadata": {
        "id": "dFJ28q8SOwP5",
        "colab": {
          "base_uri": "https://localhost:8080/"
        },
        "outputId": "36fa5431-a689-4781-ef00-e01ca819da9a"
      },
      "source": [
        "import math\n",
        "c=math.exp(1)\n",
        "c=int(c)\n",
        "print(\"Truncaded value of euler's number is:\",c)"
      ],
      "execution_count": null,
      "outputs": [
        {
          "output_type": "stream",
          "text": [
            "Truncaded value of euler's number is: 2\n"
          ],
          "name": "stdout"
        }
      ]
    },
    {
      "cell_type": "markdown",
      "metadata": {
        "id": "390fLASL-AGZ"
      },
      "source": [
        "Question-2"
      ]
    },
    {
      "cell_type": "code",
      "metadata": {
        "id": "QUiAJ8YuWLDb",
        "colab": {
          "base_uri": "https://localhost:8080/"
        },
        "outputId": "1dd4a3ac-9e34-4545-e173-325b810e4488"
      },
      "source": [
        "\n",
        "def BioData(bio):\n",
        " print(bio)\n",
        "\n",
        "bio={\n",
        "    'Name':'Ramesh',\n",
        "    'Age': '36',\n",
        "    'Fathers name':'Krishna rao',\n",
        "    'Occupation':'Software Enginner',\n",
        "    'Phone':'9994569456'\n",
        "}\n",
        "BioData(bio )"
      ],
      "execution_count": null,
      "outputs": [
        {
          "output_type": "stream",
          "text": [
            "{'Name': 'Ramesh', 'Age': '36', 'Fathers name': 'Krishna rao', 'Occupation': 'Software Enginner', 'Phone': '9994569456'}\n"
          ],
          "name": "stdout"
        }
      ]
    },
    {
      "cell_type": "markdown",
      "metadata": {
        "id": "OSkmnJII-Egn"
      },
      "source": [
        "Question-3"
      ]
    },
    {
      "cell_type": "code",
      "metadata": {
        "id": "RUcUYxKlXZrr",
        "colab": {
          "base_uri": "https://localhost:8080/"
        },
        "outputId": "4da82c99-db16-4d1a-affb-a9f7c36d5f57"
      },
      "source": [
        "def factorial(n):\n",
        "   if n==1:\n",
        "    return 1\n",
        "   else: \n",
        "     return(n*factorial(n-1))\n",
        "   \n",
        "   \n",
        "n=int(input(\"Enter input: \"))\n",
        "factorial=factorial(n)\n",
        "print(\"Factorial of \",n,\" is: \",factorial,sep=\"\")"
      ],
      "execution_count": null,
      "outputs": [
        {
          "output_type": "stream",
          "text": [
            "Enter input: 5\n",
            "Factorial of 5 is: 120\n"
          ],
          "name": "stdout"
        }
      ]
    },
    {
      "cell_type": "markdown",
      "metadata": {
        "id": "Lcv7iDCW-IZa"
      },
      "source": [
        "Question-4"
      ]
    },
    {
      "cell_type": "code",
      "metadata": {
        "id": "iyYA940fbYBc",
        "colab": {
          "base_uri": "https://localhost:8080/"
        },
        "outputId": "3a831df9-0764-4298-d643-1097ebf17dc4"
      },
      "source": [
        "def fib(n):\n",
        "   if(n==1 or n==2):\n",
        "     return 1\n",
        "   else:\n",
        "    a=fib(n-1)+fib(n-2)\n",
        "    return a\n",
        "\n",
        "n=int(input(\"Enter the number: \"))\n",
        "print(\"First\",n,\"fibanocci numbers:\")\n",
        "for x in range(1,n+1):\n",
        " fibanocci=fib(x)\n",
        " print(fibanocci)\n"
      ],
      "execution_count": null,
      "outputs": [
        {
          "output_type": "stream",
          "text": [
            "Enter the number: 5\n",
            "First 5 fibanocci numbers:\n",
            "1\n",
            "1\n",
            "2\n",
            "3\n",
            "5\n"
          ],
          "name": "stdout"
        }
      ]
    },
    {
      "cell_type": "markdown",
      "metadata": {
        "id": "ozGmY0KU-Kf9"
      },
      "source": [
        "Question-5"
      ]
    },
    {
      "cell_type": "code",
      "metadata": {
        "id": "7sBTXBgQfh87",
        "colab": {
          "base_uri": "https://localhost:8080/"
        },
        "outputId": "de2f5ce5-53bc-4892-9002-38d3889884c3"
      },
      "source": [
        "a=[1,-2,3,4,5,-8,-32,62,-35,63,95,-36]\n",
        "sum_pos=0\n",
        "sum_neg=0\n",
        "for x in range(0,12):\n",
        " if(a[x]>0):\n",
        "  sum_pos+=a[x]\n",
        " else :\n",
        "  sum_neg+=a[x]\n",
        "sum_neg=sum_neg*-1\n",
        "if(sum_pos>sum_neg):\n",
        " print('POSITIVE')\n",
        "else:\n",
        " print(\"NEGATIVE\")"
      ],
      "execution_count": null,
      "outputs": [
        {
          "output_type": "stream",
          "text": [
            "POSITIVE\n"
          ],
          "name": "stdout"
        }
      ]
    },
    {
      "cell_type": "markdown",
      "metadata": {
        "id": "rnHixY6T-MRW"
      },
      "source": [
        "Question-6 (Method-1)"
      ]
    },
    {
      "cell_type": "code",
      "metadata": {
        "id": "V8XQDcI6dShd",
        "colab": {
          "base_uri": "https://localhost:8080/"
        },
        "outputId": "646fa30d-8172-454a-f92a-9497b1f2fa3c"
      },
      "source": [
        "string=input('Enter the string: ')\n",
        "a=len(string)\n",
        "vow=\"\"\n",
        "cons=\"\"\n",
        "\n",
        "\n",
        "for x in range(0,a):\n",
        "  if(string[x]=='a' or string[x]=='e' or string[x]=='i'or string[x]=='o' or string[x]=='u'):\n",
        "    vow=vow+string[x]\n",
        "  else:\n",
        "   cons=cons+string[x]  \n",
        "ordered_string=vow+cons  \n",
        "print(\"Oredered String:\",ordered_string)"
      ],
      "execution_count": null,
      "outputs": [
        {
          "output_type": "stream",
          "text": [
            "Enter the string: hbefabjbaofb\n",
            "Oredered String: eaaohbfbjbfb\n"
          ],
          "name": "stdout"
        }
      ]
    },
    {
      "cell_type": "markdown",
      "metadata": {
        "id": "8qceLD3P-P6f"
      },
      "source": [
        "Question-6 (Method-2)"
      ]
    },
    {
      "cell_type": "code",
      "metadata": {
        "id": "gWRN3RpKZDcA",
        "colab": {
          "base_uri": "https://localhost:8080/"
        },
        "outputId": "dc807111-b43b-416a-c7c0-c67022427c85"
      },
      "source": [
        "string=input('Enter the string: ')\n",
        "a=len(string)\n",
        "print(\"Ordered String: \",end=\"\")\n",
        "for x in range(0,a):\n",
        "  if(string[x]=='a' or string[x]=='e' or string[x]=='i'or string[x]=='o' or string[x]=='u'):\n",
        "    print(string[x],end=\"\")\n",
        "for x in range(0,a):\n",
        "  if(string[x]!='a' and string[x]!='e' and string[x]!='i'and string[x]!='o' and string[x]!='u'):\n",
        "    print(string[x],end=\"\")    \n",
        "\n"
      ],
      "execution_count": null,
      "outputs": [
        {
          "output_type": "stream",
          "text": [
            "Enter the string: hbefabjbaofb\n",
            "Ordered String: eaaohbfbjbfb"
          ],
          "name": "stdout"
        }
      ]
    },
    {
      "cell_type": "markdown",
      "metadata": {
        "id": "wkQbb5oa-S6X"
      },
      "source": [
        "Question-7"
      ]
    },
    {
      "cell_type": "code",
      "metadata": {
        "id": "xnf9jfcpdiAC",
        "colab": {
          "base_uri": "https://localhost:8080/"
        },
        "outputId": "e982a924-eeae-478d-d600-139a831f20be"
      },
      "source": [
        "def fn(n,m):\n",
        " x=0\n",
        " if (x==m):\n",
        "   return\n",
        " else:\n",
        "   fn(n,m-1)\n",
        "   x=x+1\n",
        "   print(n*m)  \n",
        "\n",
        "\n",
        "n=int(input('value of n: '))\n",
        "m=int(input('value of m: '))\n",
        "\n",
        "print(\"First m multiples of a natural number n are:\")\n",
        "fn(n,m)\n",
        "\n"
      ],
      "execution_count": null,
      "outputs": [
        {
          "output_type": "stream",
          "text": [
            "value of n: 20\n",
            "value of m: 6\n",
            "First m multiples of a natural number n are:\n",
            "20\n",
            "40\n",
            "60\n",
            "80\n",
            "100\n",
            "120\n"
          ],
          "name": "stdout"
        }
      ]
    }
  ]
}