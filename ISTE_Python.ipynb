{
  "nbformat": 4,
  "nbformat_minor": 0,
  "metadata": {
    "colab": {
      "name": "ISTE Python.ipynb",
      "provenance": []
    },
    "kernelspec": {
      "name": "python3",
      "display_name": "Python 3"
    },
    "language_info": {
      "name": "python"
    }
  },
  "cells": [
    {
      "cell_type": "code",
      "metadata": {
        "id": "laVidU90LuQr",
        "colab": {
          "base_uri": "https://localhost:8080/"
        },
        "outputId": "ec694fc2-57e8-45d7-f98c-1ceee81ca144"
      },
      "source": [
        "a=7.3\n",
        "b=5+4j\n",
        "c=a+b\n",
        "print(c)"
      ],
      "execution_count": 1,
      "outputs": [
        {
          "output_type": "stream",
          "text": [
            "(12.3+4j)\n"
          ],
          "name": "stdout"
        }
      ]
    },
    {
      "cell_type": "code",
      "metadata": {
        "id": "VS5aZBDRMUtf",
        "colab": {
          "base_uri": "https://localhost:8080/"
        },
        "outputId": "a2f576fe-aed5-41c1-a450-9fa1c428c03b"
      },
      "source": [
        "a=4e4\n",
        "b=4E4\n",
        "if(a==b):\n",
        "  print(\"4e4 and 4E4 are same\")\n",
        "else:\n",
        "  print(\"4e4 and 4E4 are different\")"
      ],
      "execution_count": 2,
      "outputs": [
        {
          "output_type": "stream",
          "text": [
            "4e4 and 4E4 are same\n"
          ],
          "name": "stdout"
        }
      ]
    },
    {
      "cell_type": "code",
      "metadata": {
        "id": "2LDFnPHuMvmf",
        "colab": {
          "base_uri": "https://localhost:8080/"
        },
        "outputId": "0dfc2fcc-2a6d-444e-a602-f95bf0bd8cb7"
      },
      "source": [
        "c=3+5j\n",
        "r=c.real\n",
        "i=c.imag\n",
        "print(\"Real part of the complex number is \",r,sep=\"\")\n",
        "print(\"Imaginary part of the complex number is \",i,sep=\"\")\n",
        "\n"
      ],
      "execution_count": 3,
      "outputs": [
        {
          "output_type": "stream",
          "text": [
            "Real part of the complex number is 3.0\n",
            "Imaginary part of the complex number is 5.0\n"
          ],
          "name": "stdout"
        }
      ]
    },
    {
      "cell_type": "code",
      "metadata": {
        "id": "dFJ28q8SOwP5",
        "colab": {
          "base_uri": "https://localhost:8080/",
          "height": 128
        },
        "outputId": "6bc7fc06-a1b3-4f01-a47e-e414d1225236"
      },
      "source": [
        "import math\n",
        "c=math.exp(1)\n",
        "c=int(c)\n",
        "print(\"Truncaded value of euler's number is: \"c)"
      ],
      "execution_count": 31,
      "outputs": [
        {
          "output_type": "error",
          "ename": "SyntaxError",
          "evalue": "ignored",
          "traceback": [
            "\u001b[0;36m  File \u001b[0;32m\"<ipython-input-31-5c406da00033>\"\u001b[0;36m, line \u001b[0;32m4\u001b[0m\n\u001b[0;31m    print(\"Truncaded value of euler's number is: \"c)\u001b[0m\n\u001b[0m                                                  ^\u001b[0m\n\u001b[0;31mSyntaxError\u001b[0m\u001b[0;31m:\u001b[0m invalid syntax\n"
          ]
        }
      ]
    },
    {
      "cell_type": "code",
      "metadata": {
        "id": "QUiAJ8YuWLDb",
        "colab": {
          "base_uri": "https://localhost:8080/"
        },
        "outputId": "1dd4a3ac-9e34-4545-e173-325b810e4488"
      },
      "source": [
        "\n",
        "def fn(bio):\n",
        " print(bio)\n",
        "\n",
        "bio={\n",
        "    'Name':'Ramesh',\n",
        "    'Age': '36',\n",
        "    'Fathers name':'Krishna rao',\n",
        "    'Occupation':'Software Enginner',\n",
        "    'Phone':'9994569456'\n",
        "}\n",
        "fn(bio )"
      ],
      "execution_count": 5,
      "outputs": [
        {
          "output_type": "stream",
          "text": [
            "{'Name': 'Ramesh', 'Age': '36', 'Fathers name': 'Krishna rao', 'Occupation': 'Software Enginner', 'Phone': '9994569456'}\n"
          ],
          "name": "stdout"
        }
      ]
    },
    {
      "cell_type": "code",
      "metadata": {
        "id": "RUcUYxKlXZrr",
        "colab": {
          "base_uri": "https://localhost:8080/"
        },
        "outputId": "98f90e8a-bceb-44aa-f569-e338a3e9a4cd"
      },
      "source": [
        "def fn(n):\n",
        "   if n==1:\n",
        "    return 1\n",
        "   else: \n",
        "     return(n*fn(n-1))\n",
        "   \n",
        "   \n",
        "n=int(input(\"Enter input: \"))\n",
        "factorial=fn(n)\n",
        "print(\"Factorial of \",n,\" is: \",factorial,sep=\"\")"
      ],
      "execution_count": 12,
      "outputs": [
        {
          "output_type": "stream",
          "text": [
            "Enter input: 5\n",
            "Factorial of 5 is: 120\n"
          ],
          "name": "stdout"
        }
      ]
    },
    {
      "cell_type": "code",
      "metadata": {
        "id": "iyYA940fbYBc",
        "colab": {
          "base_uri": "https://localhost:8080/"
        },
        "outputId": "27593a65-9524-45f9-c9b4-5cb79e42d820"
      },
      "source": [
        "def fn(n):\n",
        "   if(n==1 or n==2):\n",
        "     return 1\n",
        "   else:\n",
        "    a=fn(n-1)+fn(n-2)\n",
        "    return a\n",
        "\n",
        "n=int(input(\"Enter the number: \"))\n",
        "print(\"First\",n,\"fibanocci numbers:\")\n",
        "for x in range(1,n+1):\n",
        " s=fn(x)\n",
        " print(s)\n"
      ],
      "execution_count": 13,
      "outputs": [
        {
          "output_type": "stream",
          "text": [
            "Enter the number: 5\n",
            "First 5 fibanocci numbers:\n",
            "1\n",
            "1\n",
            "2\n",
            "3\n",
            "5\n"
          ],
          "name": "stdout"
        }
      ]
    },
    {
      "cell_type": "code",
      "metadata": {
        "id": "7sBTXBgQfh87",
        "colab": {
          "base_uri": "https://localhost:8080/"
        },
        "outputId": "51b0fed8-edd1-4fb7-e588-e00e811eec2c"
      },
      "source": [
        "a=[1,-2,3,4,5,-8,-32,62,-35,63,95,-36]\n",
        "sum=0\n",
        "sum2=0\n",
        "for x in range(0,12):\n",
        " if(a[x]>0):\n",
        "  sum+=a[x]\n",
        " else :\n",
        "  sum2+=a[x]\n",
        "sum2=sum2*-1\n",
        "if(sum>sum2):\n",
        " print('POSITIVE')\n",
        "else:\n",
        " print(\"NEGATIVE\")"
      ],
      "execution_count": 14,
      "outputs": [
        {
          "output_type": "stream",
          "text": [
            "POSITIVE\n"
          ],
          "name": "stdout"
        }
      ]
    },
    {
      "cell_type": "code",
      "metadata": {
        "id": "V8XQDcI6dShd",
        "colab": {
          "base_uri": "https://localhost:8080/"
        },
        "outputId": "a49adc02-1383-4104-93b5-ff8649db1bc8"
      },
      "source": [
        "qwert=input('Enter the string: ')\n",
        "a=len(qwert)\n",
        "b=\"\"\n",
        "c=\"\"\n",
        "#for x in range(0,a):\n",
        "# if(qwert[x]=='a' or qwert[x]=='e' or qwert[x]=='i'or qwert[x]=='o' or qwert[x]=='u'):\n",
        "  # count=count+1\n",
        "  # b=b+qwert[x]\n",
        "\n",
        "for x in range(0,a):\n",
        "  if(qwert[x]=='a' or qwert[x]=='e' or qwert[x]=='i'or qwert[x]=='o' or qwert[x]=='u'):\n",
        "    b=b+qwert[x]\n",
        "  else:\n",
        "   c=c+qwert[x]  \n",
        "b=b+c  \n",
        "print(b)"
      ],
      "execution_count": 32,
      "outputs": [
        {
          "output_type": "stream",
          "text": [
            "Enter the string: hbefabjbaofb\n",
            "eaaohbfbjbfb\n"
          ],
          "name": "stdout"
        }
      ]
    },
    {
      "cell_type": "code",
      "metadata": {
        "id": "gWRN3RpKZDcA",
        "colab": {
          "base_uri": "https://localhost:8080/"
        },
        "outputId": "faf23aec-09ee-43b6-9fd7-570773970325"
      },
      "source": [
        "qwert=input('Enter the string: ')\n",
        "a=len(qwert)\n",
        "for x in range(0,a):\n",
        "  if(qwert[x]=='a' or qwert[x]=='e' or qwert[x]=='i'or qwert[x]=='o' or qwert[x]=='u'):\n",
        "    print(qwert[x],end=\"\")\n",
        "for x in range(0,a):\n",
        "  if(qwert[x]!='a' and qwert[x]!='e' and qwert[x]!='i'and qwert[x]!='o' and qwert[x]!='u'):\n",
        "    print(qwert[x],end=\"\")    \n",
        "\n"
      ],
      "execution_count": 24,
      "outputs": [
        {
          "output_type": "stream",
          "text": [
            "Enter the string: qergvcsedtyunjnoooll\n",
            "eeuoooqrgvcsdtynjnll"
          ],
          "name": "stdout"
        }
      ]
    },
    {
      "cell_type": "code",
      "metadata": {
        "id": "xnf9jfcpdiAC",
        "colab": {
          "base_uri": "https://localhost:8080/"
        },
        "outputId": "20dd1717-d319-44af-cf8b-373184485681"
      },
      "source": [
        "def fn(n,m):\n",
        " x=0\n",
        " if (x==m):\n",
        "   return\n",
        " else:\n",
        "   fn(n,m-1)\n",
        "   x=x+1\n",
        "   print(n,'*',m,'=',n*m)  \n",
        "\n",
        "\n",
        "n=int(input('value of n: '))\n",
        "m=int(input('value of m: '))\n",
        "\n",
        "\n",
        "fn(n,m)\n",
        "\n",
        "#x = range(n,(n*m)+1,n)\n",
        "#print(x)"
      ],
      "execution_count": 33,
      "outputs": [
        {
          "output_type": "stream",
          "text": [
            "value of n: 213\n",
            "value of m: 5\n",
            "213 * 1 = 213\n",
            "213 * 2 = 426\n",
            "213 * 3 = 639\n",
            "213 * 4 = 852\n",
            "213 * 5 = 1065\n"
          ],
          "name": "stdout"
        }
      ]
    }
  ]
}