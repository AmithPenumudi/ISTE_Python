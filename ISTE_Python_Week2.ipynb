{
  "nbformat": 4,
  "nbformat_minor": 0,
  "metadata": {
    "colab": {
      "name": "ISTE_Python_Week2.ipynb",
      "provenance": [],
      "collapsed_sections": [],
      "authorship_tag": "ABX9TyPjjbs3cTm/nAqYNLtYnTAl",
      "include_colab_link": true
    },
    "kernelspec": {
      "name": "python3",
      "display_name": "Python 3"
    },
    "language_info": {
      "name": "python"
    }
  },
  "cells": [
    {
      "cell_type": "markdown",
      "metadata": {
        "id": "view-in-github",
        "colab_type": "text"
      },
      "source": [
        "<a href=\"https://colab.research.google.com/github/AmithPenumudi/ISTE_Python/blob/main/ISTE_Python_Week2.ipynb\" target=\"_parent\"><img src=\"https://colab.research.google.com/assets/colab-badge.svg\" alt=\"Open In Colab\"/></a>"
      ]
    },
    {
      "cell_type": "markdown",
      "metadata": {
        "id": "dqfrzwzOpkES"
      },
      "source": [
        "**Week-2** Assignment\n"
      ]
    },
    {
      "cell_type": "markdown",
      "metadata": {
        "id": "5BS10R3-pj_U"
      },
      "source": [
        "Question-1"
      ]
    },
    {
      "cell_type": "code",
      "metadata": {
        "colab": {
          "base_uri": "https://localhost:8080/"
        },
        "id": "GPGtnfw7pRgn",
        "outputId": "e3818497-3aca-4b2a-e5cb-2e1ce19bfcde"
      },
      "source": [
        "elements=[1,3,5,7,98,5,2,56,2,56,12,3,53,256,2,23,5]\n",
        "for x in range(len(elements)):\n",
        "  for i in range(len(elements)):\n",
        "    if(x!=i):\n",
        "        if(elements[x]==elements[i]):\n",
        "          k=1\n",
        "\n",
        "     \n",
        "if(k==1):\n",
        "  print(False)\n",
        "else:\n",
        "  print(True)  "
      ],
      "execution_count": 1,
      "outputs": [
        {
          "output_type": "stream",
          "text": [
            "False\n"
          ],
          "name": "stdout"
        }
      ]
    },
    {
      "cell_type": "markdown",
      "metadata": {
        "id": "buOpRU5HprCu"
      },
      "source": [
        "Question-2"
      ]
    },
    {
      "cell_type": "code",
      "metadata": {
        "colab": {
          "base_uri": "https://localhost:8080/"
        },
        "id": "ju_SP7pJpRc_",
        "outputId": "96d12572-4175-4643-b4b1-95c25c362f3d"
      },
      "source": [
        "elements=[1,3,5,7,98,5,2,56,2,56,12,3,53,256,2,23,5]\n",
        "\n",
        "if(len(elements)==len(set(elements))):\n",
        "  print(True)\n",
        "else:\n",
        "  print(False)  "
      ],
      "execution_count": 2,
      "outputs": [
        {
          "output_type": "stream",
          "text": [
            "False\n"
          ],
          "name": "stdout"
        }
      ]
    },
    {
      "cell_type": "markdown",
      "metadata": {
        "id": "dpC1hAgCpuq5"
      },
      "source": [
        "Question-3"
      ]
    },
    {
      "cell_type": "markdown",
      "metadata": {
        "id": "w9sgTtbBpwMp"
      },
      "source": [
        "Method-1"
      ]
    },
    {
      "cell_type": "code",
      "metadata": {
        "colab": {
          "base_uri": "https://localhost:8080/"
        },
        "id": "Mc_Cq-hTpRah",
        "outputId": "0a492404-7ef9-4135-9ddf-9198c6203669"
      },
      "source": [
        "elements=[1,2,3,3,1,2,10,2,3,6,3,65,21,32,2]\n",
        "\n",
        "dupelements=set(elements)\n",
        "print(dupelements)"
      ],
      "execution_count": 5,
      "outputs": [
        {
          "output_type": "stream",
          "text": [
            "{32, 1, 2, 3, 65, 6, 10, 21}\n"
          ],
          "name": "stdout"
        }
      ]
    },
    {
      "cell_type": "markdown",
      "metadata": {
        "id": "EFIUSfs9pxtB"
      },
      "source": [
        "Method-2"
      ]
    },
    {
      "cell_type": "code",
      "metadata": {
        "colab": {
          "base_uri": "https://localhost:8080/"
        },
        "id": "sB4QS2DMpRXx",
        "outputId": "e360122b-9527-46eb-b247-054fc9a840c6"
      },
      "source": [
        "elemenst=[1,2,3,3,1,2,10,2,3,6,3,65,21,32,2]\n",
        "k=[]\n",
        "\n",
        "for x in elements:\n",
        "  if x not in k:\n",
        "   k.append(x)\n",
        "\n",
        "print(k)          \n"
      ],
      "execution_count": 6,
      "outputs": [
        {
          "output_type": "stream",
          "text": [
            "[1, 2, 3, 10, 6, 65, 21, 32]\n"
          ],
          "name": "stdout"
        }
      ]
    },
    {
      "cell_type": "markdown",
      "metadata": {
        "id": "KBTk1aBep4dY"
      },
      "source": [
        "Question-4"
      ]
    },
    {
      "cell_type": "code",
      "metadata": {
        "colab": {
          "base_uri": "https://localhost:8080/"
        },
        "id": "PLoeQJqupRVZ",
        "outputId": "a03b350d-6c10-441b-a6ce-c9ed6fda5d73"
      },
      "source": [
        "A = {1,2,3}\n",
        "B = {1,2,3,4,5}\n",
        "\n",
        "if(A.issubset(B) or B.issubset(A)):\n",
        " print(True)\n",
        "else:\n",
        "  print(False) "
      ],
      "execution_count": 7,
      "outputs": [
        {
          "output_type": "stream",
          "text": [
            "True\n"
          ],
          "name": "stdout"
        }
      ]
    },
    {
      "cell_type": "code",
      "metadata": {
        "colab": {
          "base_uri": "https://localhost:8080/"
        },
        "id": "-wcfxG0ipRSo",
        "outputId": "eefe8f46-7b43-4043-f459-f6634d89c7e4"
      },
      "source": [
        "A = {1,2,3,10}\n",
        "B = {1,2,3,4,5}\n",
        "c=A&B\n",
        "if(c==A or c==B):\n",
        " print(True)\n",
        "else:\n",
        " print(False) "
      ],
      "execution_count": 8,
      "outputs": [
        {
          "output_type": "stream",
          "text": [
            "False\n"
          ],
          "name": "stdout"
        }
      ]
    },
    {
      "cell_type": "code",
      "metadata": {
        "colab": {
          "base_uri": "https://localhost:8080/"
        },
        "id": "NhDCxK_HpRP_",
        "outputId": "4c5c58de-5b0c-4b31-f791-29985b771d74"
      },
      "source": [
        "A={5,8,1}\n",
        "B={7,5,6,1,4}\n",
        "C=A&B\n",
        "if(C==A or C==B):\n",
        " print(True)\n",
        "else:\n",
        " print(False)"
      ],
      "execution_count": 10,
      "outputs": [
        {
          "output_type": "stream",
          "text": [
            "False\n"
          ],
          "name": "stdout"
        }
      ]
    },
    {
      "cell_type": "markdown",
      "metadata": {
        "id": "ntH59D7xp7xk"
      },
      "source": [
        "Question-5"
      ]
    },
    {
      "cell_type": "code",
      "metadata": {
        "colab": {
          "base_uri": "https://localhost:8080/"
        },
        "id": "EAsDopvim3j9",
        "outputId": "c606aec4-6512-4153-ef7d-e926e422b89b"
      },
      "source": [
        "tuple1=(1,256,56,45,521,25,5,84,21)\n",
        "tuple2=(21,2,5,5,55,5)\n",
        "t1=list(tuple1)\n",
        "t2=list(tuple2)\n",
        "if(len(t1)>=len(t2)):\n",
        "  for x in range(len(t2)):\n",
        "   t1[x]=t1[x]+t2[x]\n",
        "else:\n",
        "  for x in range(len(t1)):\n",
        "   t1=list(tuple1)\n",
        "   t2=list(tuple2)\n",
        "   t2[x]=t1[x]+t2[x]\n",
        "\n",
        "if(len(t1)>=len(t2)):\n",
        "  print(tuple(t1))\n",
        "else:\n",
        "  print(tuple(t2))  \n",
        "  \n",
        " "
      ],
      "execution_count": 20,
      "outputs": [
        {
          "output_type": "stream",
          "text": [
            "(22, 258, 61, 50, 576, 30, 5, 84, 21)\n"
          ],
          "name": "stdout"
        }
      ]
    },
    {
      "cell_type": "markdown",
      "metadata": {
        "id": "9XWZNiyIqKCq"
      },
      "source": [
        "Question-6"
      ]
    },
    {
      "cell_type": "code",
      "metadata": {
        "colab": {
          "base_uri": "https://localhost:8080/"
        },
        "id": "226tIdkDqLqL",
        "outputId": "0d69a467-686a-4a76-cf4f-98bad7153108"
      },
      "source": [
        "tup=(1,2,5,5,21,4,8,5,2,54,85,5,5)\n",
        "\n",
        "q=int(\"\".join(map(str,tup)))\n",
        "print(\"Tuple of positive integers into an integer:\",q)"
      ],
      "execution_count": 13,
      "outputs": [
        {
          "output_type": "stream",
          "text": [
            "Tuple of positive integers into an integer: 1255214852548555\n"
          ],
          "name": "stdout"
        }
      ]
    }
  ]
}